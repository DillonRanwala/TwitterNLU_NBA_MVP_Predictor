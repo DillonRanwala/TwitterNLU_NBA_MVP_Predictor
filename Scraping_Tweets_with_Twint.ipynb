{
  "nbformat": 4,
  "nbformat_minor": 0,
  "metadata": {
    "colab": {
      "name": "Scraping Tweets with Twint.ipynb",
      "provenance": [],
      "collapsed_sections": []
    },
    "kernelspec": {
      "name": "python3",
      "display_name": "Python 3"
    },
    "language_info": {
      "name": "python"
    }
  },
  "cells": [
    {
      "cell_type": "markdown",
      "metadata": {
        "id": "gzANd4dXr-9r"
      },
      "source": [
        "# This notebook uses the twint library to scrape tweets from NBA media accounts for MVP candidates from 2008-2021."
      ]
    },
    {
      "cell_type": "code",
      "metadata": {
        "id": "3KVdfzpS2c-o"
      },
      "source": [
        "# This cell is used for google colab use of twint\n",
        "import os\n",
        "from google.colab import output\n",
        "!pip install twint\n",
        "!pip uninstall twint -y\n",
        "!git clone --depth=1 https://github.com/twintproject/twint.git\n",
        "%cd twint/twint/\n",
        "!sed -i 's/tweet_count = 100/tweet_count = 100 if not config.Limit else config.Limit/g' url.py\n",
        "%cd ..\n",
        "!pip3 install . -r requirements.txt\n",
        "%cd ..\n",
        "output.clear()"
      ],
      "execution_count": null,
      "outputs": []
    },
    {
      "cell_type": "code",
      "metadata": {
        "id": "lJoll9Oc4GFM"
      },
      "source": [
        "# non-colab use\n",
        "#!pip install --user --upgrade git+https://github.com/twintproject/twint.git@origin/master#egg=twint"
      ],
      "execution_count": null,
      "outputs": []
    },
    {
      "cell_type": "markdown",
      "metadata": {
        "id": "gUAHh48Qs3MO"
      },
      "source": [
        "Import Libraries"
      ]
    },
    {
      "cell_type": "code",
      "metadata": {
        "id": "pbkgNImz21rH"
      },
      "source": [
        "import nest_asyncio\n",
        "import twint\n",
        "import pandas as pd"
      ],
      "execution_count": null,
      "outputs": []
    },
    {
      "cell_type": "code",
      "metadata": {
        "id": "9e80kljY9aSJ"
      },
      "source": [
        "#Twitter accounts that will be searched\n",
        "outlet_list= ['espn' , 'ESPNNBA' , 'TurnerSportsPR' , 'TheAthletic' , 'ringer' , 'CBSSports' , 'AP_Sports' , 'BleacherReport' , 'FOXSports' , 'SInow' ,\n",
        "              'nypostsports', 'siriusxmsports', 'YahooSports', ]\n",
        "\n",
        "#All MVP Candidates \n",
        "mvps_2008_2009 = ['2008-2009','LeBron James', 'Kobe Bryant', 'Dwyane Wade', 'Dwight Howard', 'Chris Paul', 'Chauncey Billups', 'Paul Pierce', 'Tony Parker', 'Brandon Roy', 'Dirk Nowitzki', 'Tim Duncan', 'Yao Ming']\n",
        "mvps_2009_2010 = ['2009-2010','LeBron James', 'Kevin Durant', 'Kobe Bryant', 'Dwight Howard', 'Dwyane Wade', 'Carmelo Anthony', 'Dirk Nowitzki', 'Steve Nash', 'Deron Williams', \"Amar'e Stoudemire\", 'Manu Ginobili', 'Chauncey Billups', 'Chris Bosh', 'stephen Jackson', 'Joe Johnson']\n",
        "mvps_2012_2013 = ['2012-2013','LeBron James', 'Kevin Durant', 'Carmelo Anthony', 'Chris Paul', 'Kobe Bryant', 'Tony Parker', 'Tim Duncan', 'James Harden', 'Russell Westbrook', 'Dwyane Wade', 'steph Curry', 'Kevin Garnett', 'Marc Gasol', 'Ty Lawson', 'David Lee', 'Joakim Noah']\n",
        "mvps_2015_2016 = ['2015-2016','steph Curry', 'Kawhi Leonard', 'LeBron James', 'Russell Westbrook', 'Kevin Durant', 'Chris Paul', 'Draymond Green', 'Damian Lillard', 'James Harden', 'Kyle Lowry']\n",
        "mvps_2013_2014 = ['2013-2014','Kevin Durant', 'LeBron James', 'Blake Griffin', 'Joakim Noah', 'James Harden', 'steph Curry', 'Chris Paul', 'Al Jefferson', 'Paul George', 'LaMarcus Aldridge', 'Kevin Love', 'Tim Duncan', 'Tony Parker', 'Dirk Nowitzki', 'Carmelo Anthony', 'Goran Dragic', 'Mike Conley']\n",
        "mvps_2018_2019 = ['2018-2019','Giannis Antetokounmpo', 'James Harden', 'Paul George', 'Nikola Jokić', 'steph Curry', 'Damian Lillard', 'Joel Embiid', 'Kevin Durant', 'Kawhi Leonard', 'Russell Westbrook', 'Rudy Gobert', 'LeBron James']\n",
        "mvps_2014_2015 = ['2014-2015','steph Curry', 'James Harden', 'LeBron James', 'Russell Westbrook', 'Anthony Davis', 'Chris Paul', 'LaMarcus Aldridge', 'Marc Gasol', 'Blake Griffin', 'Tim Duncan', 'Kawhi Leonard', 'Klay Thompson']\n",
        "mvps_2016_2017 = ['2016-2017','Russell Westbrook', 'James Harden', 'Kawhi Leonard', 'LeBron James', 'Isaiah Thomas', 'steph Curry', 'Giannis Antetokounmpo', 'John Wall', 'Anthony Davis', 'Kevin Durant', 'DeMar DeRozan']\n",
        "mvps_2007_2008 =['2007-2008','Kobe Bryant', 'Chris Paul', 'Kevin Garnett', 'LeBron James', 'Dwight Howard', \"Amar'e Stoudemire\", 'Tim Duncan', 'Tracy McGrady', 'Steve Nash', 'Manu Ginobili', 'Dirk Nowitzki', 'Deron Williams', 'Carmelo Anthony', 'Carlos Boozer', 'Antawn Jamison', 'Paul Pierce', 'Rasheed Wallace']\n",
        "mvps_2019_2020 = ['2019-2020','Giannis Antetokounmpo', 'LeBron James', 'James Harden', 'Luka Dončić', 'Kawhi Leonard', 'Anthony Davis', 'Chris Paul', 'Damian Lillard', 'Nikola Jokić', 'Pascal Siakam', 'Jimmy Butler', 'Jayson Tatum']\n",
        "mvps_2011_2012 = ['2011-2012','LeBron James', 'Kevin Durant', 'Chris Paul', 'Kobe Bryant', 'Tony Parker', 'Kevin Love', 'Dwight Howard', 'Rajon Rondo', 'Steve Nash', 'Dwyane Wade', 'Derrick Rose', 'Dirk Nowitzki', 'Russell Westbrook', 'Tim Duncan', 'Joe Johnson']\n",
        "mvps_2006_2007 = ['2006-2007','Dirk Nowitzki', 'Steve Nash', 'Kobe Bryant', 'Tim Duncan', 'LeBron James', 'Tracy McGrady', 'Chris Bosh', 'Gilbert Arenas', 'Carlos Boozer', 'Kevin Garnett', 'Chauncey Billups', \"Shaquille O'Neal\", 'Dwyane Wade', \"Amar'e Stoudemire\", 'Carmelo Anthony', 'Baron Davis', 'Tony Parker']\n",
        "mvps_2010_2011 = ['2010-2011','Derrick Rose', 'Dwight Howard', 'LeBron James', 'Kobe Bryant', 'Kevin Durant', 'Dirk Nowitzki', 'Dwyane Wade', 'Manu Ginobili', \"Amar'e Stoudemire\", 'Blake Griffin', 'Rajon Rondo', 'Tony Parker', 'Chris Paul']\n",
        "mvps_2017_2018 = ['2017-2018','James Harden', 'LeBron James', 'Anthony Davis', 'Damian Lillard', 'Russell Westbrook', 'Giannis Antetokounmpo', 'Kevin Durant','DeMar DeRozan', 'LaMarcus Aldridge','Jimmy Butler', 'steph Curry']\n",
        "mvps_2020_2021 = ['2020-2021','Nikola Jokic', 'Joel Embiid', 'Steph Curry', 'Giannis Antetokounmpo' , 'Chris Paul' , 'Luka Dončić' , 'Damian Lillard' , 'Julius Randle' , 'Derrick Rose' , 'Rudy Gobert' , 'Russell Westbrook' , 'Ben Simmons' , 'James Harden' , 'LeBron James' , 'Kawhi Leonard']"
      ],
      "execution_count": null,
      "outputs": []
    },
    {
      "cell_type": "code",
      "metadata": {
        "id": "9L3vYXqE_D1g"
      },
      "source": [
        "all_mvps = [mvps_2006_2007,mvps_2007_2008,mvps_2008_2009, mvps_2009_2010, mvps_2010_2011, mvps_2011_2012, mvps_2012_2013, mvps_2013_2014,\n",
        "            mvps_2014_2015, mvps_2015_2016, mvps_2016_2017, mvps_2017_2018, mvps_2018_2019, mvps_2019_2020, mvps_2020_2021]"
      ],
      "execution_count": null,
      "outputs": []
    },
    {
      "cell_type": "code",
      "metadata": {
        "id": "KdP31Dcy2fsf"
      },
      "source": [
        "# Twint runs into errors when scraping thousands of tweets at a time\n",
        "# This cell only analyzes a single season\n",
        "print(all_mvps[1])\n",
        "mvp_season_to_scrape = all_mvps[1] #change index as needed\n",
        "nest_asyncio.apply() # needed for twint to work in the runtime\n",
        "\n",
        "# Getting season range\n",
        "year_range = mvp_season_to_scrape[0]\n",
        "start_year = str(year_range)[0:4]\n",
        "end_year = str(year_range)[5:]\n",
        "mvp_season_to_scrape.pop(0)\n",
        "\n",
        "collected_tweets = False\n",
        "for player in mvp_season_to_scrape:\n",
        "  for username in outlet_list:\n",
        "    # Instantiate and configure the twint-object\n",
        "    c = twint.Config()\n",
        "    c.Username = username\n",
        "    c.Store_object = True\n",
        "    c.Pandas =True\n",
        "    c.Search = player\n",
        "    c.Limit = 50000\n",
        "    c.Hide_output = False\n",
        "\n",
        "    # lockout season\n",
        "    if start_year == '2011':\n",
        "      c.Since = start_year +'-12-25'\n",
        "      c.Until = end_year + '-04-28'\n",
        "    # covid seasons\n",
        "    elif start_year == '2019':\n",
        "      c.Since = start_year +'-09-28'\n",
        "      c.Until = end_year + '-08-17'    \n",
        "    elif start_year == '2020':\n",
        "      c.Since = start_year +'-12-11'\n",
        "      c.Until = end_year + '-05-22' \n",
        "    # Normal Seasons\n",
        "    else:\n",
        "      c.Since = start_year +'-09-28'\n",
        "      c.Until = end_year + '-04-13'\n",
        "\n",
        "    c.Lang = 'en'\n",
        "    twint.run.Search(c)\n",
        "\n",
        "    # Adding Extra metadata\n",
        "    twint.storage.panda.Tweets_df['player'] = player\n",
        "    twint.storage.panda.Tweets_df['season'] = year_range\n",
        "    twint.storage.panda.Tweets_df['tweet_username'] = username\n",
        "    twint.storage.panda.Tweets_df['media_type'] = 'outlet' #media\n",
        "    twint.storage.panda.Tweets_df.to_csv('mvp_tweets_' + str(year_range) + '_' + str(player) + '_' + str(username) + '.csv')\n",
        "\n",
        "    # This code is used when running this cell multiple times to create a single df\n",
        "    tempdf = twint.storage.panda.Tweets_df.copy()\n",
        "    if (('id' in tempdf.columns) & (collected_tweets == False)):\n",
        "      fulldf = twint.storage.panda.Tweets_df.copy()\n",
        "      collected_tweets = True\n",
        "    elif collected_tweets == False:\n",
        "      pass\n",
        "    else:\n",
        "      fulldf = pd.concat([fulldf,tempdf])\n",
        "  \n",
        "    print(username + ' ' + player + ' scraped')\n"
      ],
      "execution_count": null,
      "outputs": []
    },
    {
      "cell_type": "code",
      "metadata": {
        "id": "r2eT1xRKUmft"
      },
      "source": [
        "fulldf"
      ],
      "execution_count": null,
      "outputs": []
    }
  ]
}